{
 "cells": [
  {
   "cell_type": "code",
   "execution_count": 1,
   "id": "b58388a5",
   "metadata": {},
   "outputs": [
    {
     "data": {
      "text/plain": [
       "{'현재 보고 있는 작품': 'A3',\n",
       " '현재 보고 있는 작품의 위치': '1층, C홀, 서쪽 위치, 홀의 오른쪽 모퉁이 부분에 위치',\n",
       " '가장 인접한 작품': 'A2',\n",
       " '가장 인접한 작품의 위치': '1층, B홀, 중앙 위치, 중앙에서 가장 앞쪽에 있는 작품',\n",
       " '두 작품 사이의 거리(M)': 15}"
      ]
     },
     "execution_count": 1,
     "metadata": {},
     "output_type": "execute_result"
    }
   ],
   "source": [
    "import heapq\n",
    "\n",
    "#다익스트라 알고리즘을 사용하여 현재 위치에서 가장 가까운 대표 작품을 찾는 함수\n",
    "def dijkstra(graph, start, locations, current_location):\n",
    "    #각 대표 작품까지의 거리를 저장할 딕셔너리 초기화\n",
    "    distances = {node: float('inf') for node in graph}\n",
    "    #시작 위치의 거리를 0으로 설정\n",
    "    distances[start] = 0\n",
    "    #우선순위 큐를 사용하기 위한 빈 리스트 초기화\n",
    "    queue = []\n",
    "    #시작 위치를 큐에 넣음 (거리, 위치 정보)\n",
    "    heapq.heappush(queue, [distances[start], start])\n",
    "    #가장 가까운 대표 작품과 그 거리를 초기화\n",
    "    closest_destination = None\n",
    "    closest_distance = float('inf')\n",
    "\n",
    "    #다익스트라 알고리즘\n",
    "    while queue:\n",
    "        #큐에서 현재 위치와 거리를 가져옴\n",
    "        current_distance, current_destination = heapq.heappop(queue)\n",
    "        #이미 저장된 거리보다 더 길다면 무시하고 다음으로 진행\n",
    "        if distances[current_destination] < current_distance:\n",
    "            continue\n",
    "        #현재 위치에서 이웃 대표 작품까지의 거리 계산\n",
    "        for new_destination, new_distance in graph[current_destination].items():\n",
    "            distance = current_distance + new_distance\n",
    "            #새로 계산된 거리가 이전에 저장된 거리보다 짧다면 업데이트\n",
    "            if distance < distances[new_destination]:\n",
    "                distances[new_destination] = distance\n",
    "                #큐에 새로운 거리와 위치 정보를 추가\n",
    "                heapq.heappush(queue, [distance, new_destination])\n",
    "                #현재까지 가장 가까운 대표 작품 업데이트\n",
    "                if distance < closest_distance:\n",
    "                    closest_destination = new_destination\n",
    "                    closest_distance = distance\n",
    "\n",
    "    #결과 반환\n",
    "    return {\n",
    "        \"현재 보고 있는 작품\": current_location,\n",
    "        \"현재 보고 있는 작품의 위치\": locations.get(current_location, \"Location information not available\"),\n",
    "        \"가장 인접한 작품\": closest_destination,\n",
    "        \"가장 인접한 작품의 위치\": locations.get(closest_destination, \"Location information not available\"),\n",
    "        \"두 작품 사이의 거리(M)\": closest_distance\n",
    "    }\n",
    "\n",
    "#대표작품 간 거리 정보, 대표 작품 위치 정보\n",
    "graph = {\n",
    "    'A1': {'A2': 10, 'A3': 30, 'A4': 5, 'A5': 7, 'A6': 45, 'A7': 40},\n",
    "    'A2': {'A1': 10, 'A3': 15, 'A4': 12, 'A5': 28, 'A6': 20, 'A7': 38}, \n",
    "    'A3': {'A1': 30, 'A2': 15, 'A4': 25, 'A5': 35, 'A6': 25, 'A7': 33},\n",
    "    'A4': {'A1': 5, 'A2': 12, 'A3': 25, 'A5': 8, 'A6': 45, 'A7': 11}, \n",
    "    'A5': {'A1': 7, 'A2': 28, 'A3': 35, 'A4': 8, 'A6': 18, 'A7': 35}, \n",
    "    'A6': {'A1': 45, 'A2': 20, 'A3': 25, 'A4': 45, 'A5': 18, 'A7': 12},\n",
    "    'A7': {'A1': 40, 'A2': 38, 'A3': 33, 'A4': 11, 'A5': 35, 'A6': 12}\n",
    "    }  \n",
    "\n",
    "locations = {\n",
    "    'A1': '1층, A홀, 동쪽 위치, 입구에서 바로 오른쪽',\n",
    "    'A2': '1층, B홀, 중앙 위치, 중앙에서 가장 앞쪽에 있는 작품',\n",
    "    'A3': '1층, C홀, 서쪽 위치, 홀의 오른쪽 모퉁이 부분에 위치',\n",
    "    'A4': '2층, D홀, 계단 우측, 입구에서 바로 왼쪽',\n",
    "    'A5': '2층, E홀, 계단 좌측, 홀 정중앙에 위치',\n",
    "    'A6': '3층, F홀, 엘리베이터 앞쪽, 입구 왼쪽 벽에서 두번째 작품',\n",
    "    'A7': '3층, G홀, 화장실 뒤쪽, 출구 오른쪽 벽 첫번째 작품'\n",
    "} \n",
    "\n",
    "#현재 위치 설정\n",
    "current_location = 'A3'  \n",
    "#다익스트라 알고리즘을 통해 결과 얻기\n",
    "result = dijkstra(graph, current_location, locations, current_location)\n",
    "#결과 출력\n",
    "result"
   ]
  }
 ],
 "metadata": {
  "kernelspec": {
   "display_name": "Python 3 (ipykernel)",
   "language": "python",
   "name": "python3"
  },
  "language_info": {
   "codemirror_mode": {
    "name": "ipython",
    "version": 3
   },
   "file_extension": ".py",
   "mimetype": "text/x-python",
   "name": "python",
   "nbconvert_exporter": "python",
   "pygments_lexer": "ipython3",
   "version": "3.11.4"
  }
 },
 "nbformat": 4,
 "nbformat_minor": 5
}
