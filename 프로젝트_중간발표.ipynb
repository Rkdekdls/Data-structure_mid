{
 "cells": [
  {
   "cell_type": "code",
   "execution_count": 1,
   "id": "9216b37a",
   "metadata": {},
   "outputs": [
    {
     "name": "stdout",
     "output_type": "stream",
     "text": [
      "현재 보고 있는 작품: A2 1층, B홀, 중앙 위치, 중앙에서 가장 앞쪽에 있는 작품\n",
      "가장 가까운 작가의 대표 작품: A4 2층, D홀, 계단 우측, 입구에서 바로 왼쪽\n",
      "거리: 12 미터\n"
     ]
    }
   ],
   "source": [
    "#대표 작품의 ID와 위치 정보를 딕셔너리로 정의\n",
    "artist_works = {\n",
    "    'Artist1': {'ID': 'A1', 'Location': '1층, A홀, 동쪽 위치, 입구에서 바로 오른쪽'},\n",
    "    'Artist2': {'ID': 'A2', 'Location': '1층, B홀, 중앙 위치, 중앙에서 가장 앞쪽에 있는 작품'},\n",
    "    'Artist3': {'ID': 'A3', 'Location': '1층, C홀, 서쪽 위치, 홀의 오른쪽 모퉁이 부분에 위치'},\n",
    "    'Artist4': {'ID': 'A4', 'Location': '2층, D홀, 계단 우측, 입구에서 바로 왼쪽'},\n",
    "    'Artist5': {'ID': 'A5', 'Location': '2층, E홀, 계단 좌측, 홀 정중앙에 위치'},\n",
    "    'Artist6': {'ID': 'A6', 'Location': '3층, F홀, 엘리베이터 앞쪽, 입구 왼쪽 벽에서 두번째 작품'},\n",
    "    'Artist7': {'ID': 'A7', 'Location': '3층, G홀, 화장실 뒤쪽, 출구 오른쪽 벽 첫번째 작품'},\n",
    "}\n",
    "\n",
    "#각 대표 작품 간의 거리 정보를 딕셔너리로 정의\n",
    "#각 대표 작품 거리별 모든 경우의 수를 측정\n",
    "distances = {\n",
    "    ('A1', 'A2'): 10,\n",
    "    ('A1', 'A3'): 30,\n",
    "    ('A1', 'A4'): 5,\n",
    "    ('A1', 'A5'): 7,\n",
    "    ('A1', 'A6'): 45,\n",
    "    ('A1', 'A7'): 40,\n",
    "    ('A2', 'A3'): 15,\n",
    "    ('A2', 'A4'): 12,  #각 1층과 2층에 위치하지만 같은 1층에 있는 작품보다 더 가까운 경우\n",
    "    ('A2', 'A5'): 28,\n",
    "    ('A2', 'A6'): 20,\n",
    "    ('A2', 'A7'): 38,\n",
    "    ('A3', 'A4'): 25,\n",
    "    ('A3', 'A5'): 35,\n",
    "    ('A3', 'A6'): 25,\n",
    "    ('A3', 'A7'): 33,\n",
    "    ('A4', 'A5'): 8,\n",
    "    ('A4', 'A6'): 45,\n",
    "    ('A4', 'A7'): 11,  #각 2층과 3층에 위치하지만 같은 2층에 있는 작품보다 더 가까운 경우\n",
    "    ('A5', 'A6'): 18,\n",
    "    ('A5', 'A7'): 35,\n",
    "    ('A6', 'A7'): 12,\n",
    "}\n",
    "\n",
    "#현재 위치 및 보고 중인 작품 정보를 입력\n",
    "current_location = '1층, B홀, 중앙 위치, 중앙에서 가장 앞쪽에 있는 작품'\n",
    "current_work_id = 'A2'\n",
    "\n",
    "#현재 위치에서 가장 가까운 작가의 대표 작품을 찾는 함수를 정의\n",
    "def find_nearest_work(current_location, current_work_id, artist_works, distances):\n",
    "    nearest_distance = float('inf')  #초기 거리를 무한대로 설정\n",
    "    nearest_work = None  #가장 가까운 작가의 대표 작품 정보를 저장할 변수\n",
    "\n",
    "    #각 작가와 그 작가의 대표 작품 정보를 반복\n",
    "    for artist, work_info in artist_works.items():\n",
    "        if work_info['Location'] == current_location:  #현재 위치와 일치하는 대표 작품인 경우\n",
    "            work_id = work_info['ID']  #현재 대표 작품의 ID를 가져옴\n",
    "            #모든 다른 대표 작품과의 거리를 비교하여 가장 가까운 작품을 찾음\n",
    "            for target_artist, target_work_info in artist_works.items():\n",
    "                target_work_id = target_work_info['ID']  #대상 대표 작품의 ID를 가져옴\n",
    "                if work_id != target_work_id:  #현재 대표 작품과 다른 대표 작품인 경우\n",
    "                    distance = distances.get((work_id, target_work_id), float('inf'))  #거리를 가져옴\n",
    "                    if distance < nearest_distance:  #현재까지의 가장 가까운 작품보다 가까운 경우\n",
    "                        nearest_distance = distance  #가장 가까운 거리를 업데이트\n",
    "                        nearest_work = target_work_info  #가장 가까운 작품 정보를 업데이트\n",
    "\n",
    "    return nearest_work, nearest_distance  #가장 가까운 작가의 대표 작품 정보와 거리를 반환\n",
    "\n",
    "#가장 가까운 작가의 대표 작품을 찾아 출력\n",
    "nearest_work, nearest_distance = find_nearest_work(current_location, current_work_id, artist_works, distances)\n",
    "\n",
    "if nearest_work:\n",
    "    print(\"현재 보고 있는 작품:\", current_work_id, current_location)\n",
    "    print(\"가장 가까운 작가의 대표 작품:\", nearest_work['ID'], nearest_work['Location'])\n",
    "    print(\"거리:\", nearest_distance, \"미터\")  #거리 출력\n",
    "else:\n",
    "    print(\"가장 가까운 작가의 대표 작품을 찾을 수 없습니다.\")"
   ]
  }
 ],
 "metadata": {
  "kernelspec": {
   "display_name": "Python 3 (ipykernel)",
   "language": "python",
   "name": "python3"
  },
  "language_info": {
   "codemirror_mode": {
    "name": "ipython",
    "version": 3
   },
   "file_extension": ".py",
   "mimetype": "text/x-python",
   "name": "python",
   "nbconvert_exporter": "python",
   "pygments_lexer": "ipython3",
   "version": "3.11.4"
  }
 },
 "nbformat": 4,
 "nbformat_minor": 5
}
